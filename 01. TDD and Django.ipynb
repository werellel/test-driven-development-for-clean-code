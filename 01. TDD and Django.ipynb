{
 "cells": [
  {
   "cell_type": "markdown",
   "metadata": {},
   "source": [
    "TDD의 기본적인 내용을 다룬다. 단위 테스트 뿐만 아니라 셀레늄을 이용한 기능 테스트에 대해서도 소개하고 두 가지 테스트의 차이점을 알아본다. 단위 테스트 코드 주기로 구성되는 TDD 처리 흐름에 대해서도 다룬다. 또한 일반적인 리패토링과 이를 결합한 TDD에 대해 설명한다. 리팩토링은 소프트웨어 공학의 핵심이라 할 수 있기 때문에 버전 관리 시스템을 사용해서 구현하도록 한다. 언제 어떤 커밋을 하고 TDD 및 웹 개발 작업과 통합하는지에 대해서 논의한다.\n",
    "\n"
   ]
  }
 ],
 "metadata": {
  "kernelspec": {
   "display_name": "Python 3",
   "language": "python",
   "name": "python3"
  },
  "language_info": {
   "codemirror_mode": {
    "name": "ipython",
    "version": 3
   },
   "file_extension": ".py",
   "mimetype": "text/x-python",
   "name": "python",
   "nbconvert_exporter": "python",
   "pygments_lexer": "ipython3",
   "version": "3.7.3"
  }
 },
 "nbformat": 4,
 "nbformat_minor": 2
}
