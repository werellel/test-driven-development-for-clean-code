{
 "cells": [
  {
   "cell_type": "markdown",
   "metadata": {},
   "source": [
    "TDD의 기본적인 내용을 다룬다. 단위 테스트 뿐만 아니라 셀레늄을 이용한 기능 테스트에 대해서도 소개하고 두 가지 테스트의 차이점을 알아본다. 단위 테스트 코드 주기로 구성되는 TDD 처리 흐름에 대해서도 다룬다. 또한 일반적인 리패토링과 이를 결합한 TDD에 대해 설명한다. 리팩토링은 소프트웨어 공학의 핵심이라 할 수 있기 때문에 버전 관리 시스템을 사용해서 구현하도록 한다. 언제 어떤 커밋을 하고 TDD 및 웹 개발 작업과 통합하는지에 대해서 논의한다.\n",
    "\n",
    "## 기능 테스트를 이용한 Django 설치\n",
    "\n",
    "TDD는 특별한 것이 아니다. 이것은 일종의 훈련이다.\n",
    "\n",
    "### 테스트가 없으면 아무것도 하지 마라.\n",
    "테스팅 고트님은 파이썬 테스팅 커뮤니티의 비공싱적인 TDD 마스코트다.\n",
    "\n",
    "TDD에서 가장 먼저 해야 하는 것은 언제나 같다. \"테스트를 작성해라.\"\n",
    "\n",
    "먼저 테스트를 작성한 후 실행한다. 그리고 테스트가 예상대로 실패하는지 확인한다.\n",
    "\n",
    "Django를 이용해서 애플리케이션을 개발하는 과정을 보자.\n",
    "\n",
    "첫 번째 단계는 Django가 제대로 설치됐는지, 사용할 준비가 됐는지 확인하는 것이다. 이것을 확인하기 위해서, Django 개발 서버를 가동해서 이 서버에 있는 웹 페이지를 로컬 PC 상의 브라우저로 접속해야 한다. 셀레늄 브라우저 자동화 툴을 이용해서 이 동작을 구현하도록 한다.\n",
    "\n",
    "코드를 저장할 프로젝트 폴터를 하나 만들고 거기에 functional_test.py라는 파이썬 파일을 생성한다. 그리고 다음 코드를 입력한다."
   ]
  },
  {
   "cell_type": "code",
   "execution_count": 3,
   "metadata": {},
   "outputs": [],
   "source": [
    "from selenium import webdriver\n",
    "\n",
    "browser = webdriver.Firefox()\n",
    "browser.get(\"localhost:8000\")\n",
    "assert 'Django' in browser.title"
   ]
  },
  {
   "cell_type": "code",
   "execution_count": null,
   "metadata": {},
   "outputs": [],
   "source": []
  }
 ],
 "metadata": {
  "kernelspec": {
   "display_name": "Python 3",
   "language": "python",
   "name": "python3"
  },
  "language_info": {
   "codemirror_mode": {
    "name": "ipython",
    "version": 3
   },
   "file_extension": ".py",
   "mimetype": "text/x-python",
   "name": "python",
   "nbconvert_exporter": "python",
   "pygments_lexer": "ipython3",
   "version": "3.7.3"
  }
 },
 "nbformat": 4,
 "nbformat_minor": 2
}
