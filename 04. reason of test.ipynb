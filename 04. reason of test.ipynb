{
 "cells": [
  {
   "cell_type": "markdown",
   "metadata": {},
   "source": [
    "## 프로그래밍은 우물에서 물을 퍼 올리는 것과 같다.\n",
    "\n",
    "TDD는 똑똑하지 못한 우리들을 도와주기 위해 존재한다. \n",
    "\n",
    "TDD는 훈련이다. 즉 자연스럽게 익힐 수 있는 것이 아니다. 대부분의 성과가 즉시 보여지는 것이 아니라 오랜 기간을 거쳐야 보이기 때문에, 여러분 자신이 TDD에 적응할 수 있도록 노력해야 한다. \n",
    "\n",
    "### 시시한 함수에 대한 시시한 테스트의 이점\n",
    "\n",
    "문제는 애플리케이션이 복잡해지면서 발생하게 되는데, 이때는 정말 테스트가 필요해진다. 하지만 복잡성이라는 것은 모르는 사이에 조금씩 다가와서 복잡하다는 것 자체를 인지하지 못하고 찾아온다.\n",
    "\n",
    "테스트가 정말 시시한 테스트라면 테스트 작성 자체에 시간이 많이 걸리지 않는다는 것이다. \n",
    "\n",
    "틀을 사용하는 것이 도움이 된다는 것이다. 쉬운 함수를 위한 테스트 틀이 있다면, 함수가 복잡해지더라도 심리적 부담을 줄일 수 있다. 틀어 없으면 훨씬 많은 수고를 들여서 테스트를 만들고 수정해야 한다. \n",
    "\n",
    "## 정리: TDD 프로세스\n",
    "\n",
    "실습을 통해 TDD 프로세스의 주요 내용을 모두 살펴보았다.\n",
    "\n",
    "* 기능 테스트\n",
    "* 단위 테스트\n",
    "* 단위 테스트-코드 주기\n",
    "* 리팩터링\n"
   ]
  }
 ],
 "metadata": {
  "kernelspec": {
   "display_name": "Python 3",
   "language": "python",
   "name": "python3"
  },
  "language_info": {
   "codemirror_mode": {
    "name": "ipython",
    "version": 3
   },
   "file_extension": ".py",
   "mimetype": "text/x-python",
   "name": "python",
   "nbconvert_exporter": "python",
   "pygments_lexer": "ipython3",
   "version": "3.7.3"
  }
 },
 "nbformat": 4,
 "nbformat_minor": 2
}
