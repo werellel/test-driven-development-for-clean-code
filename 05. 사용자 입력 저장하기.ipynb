{
 "cells": [
  {
   "cell_type": "markdown",
   "metadata": {},
   "source": [
    "TDD의 핵심은 한 번에 한 가지만 하는 것이기 때문에 간단한 구조로 변경해야 한다. 기능 테스트에 필요한 최소한의 기능만 구현하도록 한다.\n",
    "\n",
    "이번 장에서는 TDD가 어떻게 반복적인 개발 스타일을 지원하는지 살펴본다. 가장 빠른 방법은 아니지만 결과적으로는 개발 속도를 높여줄 수 있다. 또한 모델이나 POST 요청 처리, Django 템플릿 태그 같은 새로운 개념에 대해서도 소개한다.\n",
    "\n",
    "## POST 요청을 전송하기 위한 폼 연동\n",
    "\n",
    "브라우저가 POST 요청을 보내기 위해선 \"\\<\\input>\" 요소에 name= 속성을 지정하고 <form> 태그로 감싸야 한다. 이떄 <form> 태그에 method=\"POST\"를 지정해서 전송 방식을 설정한다.\n",
    "    \n",
    "기능 테스트에서 예측하지 못한 에러가 발생하면, 다음과 같은 사항을 디버깅해야 한다.\n",
    "* print문을 사용해서 현재 페이지 텍스트 등을 확인해본다.\n",
    "* 에러 메세지를 개선해서 더 자세한 정보를 출력하도록 한다.\n",
    "* 수동으로 사이트를 열어본다.\n",
    "* time.sleep을 이용해서 실행 중에 있는 테스트를 잠시 정지시킨다.\n",
    "\n",
    "Django의 CSRF 보호는 사이트의 각 폼이 생성하는 POST 요청을 확인할 수 있는 토큰을 자동 생성한다. Django는 이것은 CSRF 토큰을 포함하는 <input tyoe=\"hidden\"> 요소로 변경해서 렌더링한다. \n",
    "\n",
    "## 서버에서 POST 요청 처리\n"
   ]
  },
  {
   "cell_type": "code",
   "execution_count": null,
   "metadata": {},
   "outputs": [],
   "source": [
    " "
   ]
  }
 ],
 "metadata": {
  "kernelspec": {
   "display_name": "Python 3",
   "language": "python",
   "name": "python3"
  },
  "language_info": {
   "codemirror_mode": {
    "name": "ipython",
    "version": 3
   },
   "file_extension": ".py",
   "mimetype": "text/x-python",
   "name": "python",
   "nbconvert_exporter": "python",
   "pygments_lexer": "ipython3",
   "version": "3.7.3"
  }
 },
 "nbformat": 4,
 "nbformat_minor": 2
}
