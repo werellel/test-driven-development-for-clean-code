{
 "cells": [
  {
   "cell_type": "markdown",
   "metadata": {},
   "source": [
    "TDD의 핵심은 한 번에 한 가지만 하는 것이기 때문에 간단한 구조로 변경해야 한다. 기능 테스트에 필요한 최소한의 기능만 구현하도록 한다.\n",
    "\n",
    "이번 장에서는 TDD가 어떻게 반복적인 개발 스타일을 지원하는지 살펴본다. 가장 빠른 방법은 아니지만 결과적으로는 개발 속도를 높여줄 수 있다. 또한 모델이나 POST 요청 처리, Django 템플릿 태그 같은 새로운 개념에 대해서도 소개한다.\n",
    "\n",
    "## POST 요청을 전송하기 위한 폼 연동\n",
    "\n",
    "브라우저가 POST 요청을 보내기 위해선 "
   ]
  },
  {
   "cell_type": "code",
   "execution_count": null,
   "metadata": {},
   "outputs": [],
   "source": []
  }
 ],
 "metadata": {
  "kernelspec": {
   "display_name": "Python 3",
   "language": "python",
   "name": "python3"
  },
  "language_info": {
   "codemirror_mode": {
    "name": "ipython",
    "version": 3
   },
   "file_extension": ".py",
   "mimetype": "text/x-python",
   "name": "python",
   "nbconvert_exporter": "python",
   "pygments_lexer": "ipython3",
   "version": "3.7.3"
  }
 },
 "nbformat": 4,
 "nbformat_minor": 2
}
