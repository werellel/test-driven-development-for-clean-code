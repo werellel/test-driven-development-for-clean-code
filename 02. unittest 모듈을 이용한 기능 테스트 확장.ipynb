{
 "cells": [
  {
   "cell_type": "markdown",
   "metadata": {},
   "source": [
    "To-Do 사이트 개발을 통해 TDD 적용 방법에 대해서 알아본다.\n",
    "\n",
    "## 기능 테스트를 이용한 최소 기능의 애플리케이션 설계\n",
    "\n",
    "FP는 사람이 이애할 수 있는 스토리를 가지고 있어야 한다. 테스트 코드에 주석을 기록하여 이해를 돕는다. \n",
    "\n",
    "functional_test.py 파일의 스토리 추가.\n",
    "\n",
    "## 파이썬 기본 라이브러리의 unittest 모듈\n",
    "\n",
    "열려있는 파이어폭스 창을 닫아주기 위해서 try/finally를 이용해도 되지만, 이런 문제는 테스트 시에 자주 발생하기 때문에 이를 위한 별도 솔루션이 이미 존재한다. 기본 라이브러리의 unittest 모듈이다. functional_tests.py에 적용해 보자."
   ]
  },
  {
   "cell_type": "code",
   "execution_count": 2,
   "metadata": {},
   "outputs": [],
   "source": [
    "from selenium import webdriver\n",
    "import unittest\n",
    "\n",
    "class NewVisitorTest(unittest.TestCase): # !\n",
    "    def setUp(self): # 2\n",
    "        self.browser = webdriver.Firefox()\n",
    "        \n",
    "    def tearDown(self): # 3\n",
    "        self.browser.quit()\n",
    "    \n",
    "    def test_can_start_a_list_and_retrieve_it_later(self): # 4\n",
    "        # 에디스는 작업 목록 오라인 앱이 나왔다는 소식을 듣고 웹 사이트를 확인하러 간다.\n",
    "        self.browser.get('http://localhost:8888')\n",
    "        \n",
    "        # 웹 페이지 타이틀과 헤더가 'To-Do'를 표시하고 있다.\n",
    "        self.assertIn(\"To-Do\", self.browser.title) # 5\n",
    "        self.fail(\"Finish the test!\") # 6\n",
    "        \n",
    "        # 그녀는 바로 작업을 추가하기로 한다.\n",
    "if __name__ == \"__main__\": # 7\n",
    "    unittest.main(warnings='ignore') # 8"
   ]
  },
  {
   "cell_type": "markdown",
   "metadata": {},
   "source": [
    "1. unittest.TestCase를 상속해서 테스트를 클래스 형태로 만든다.\n",
    "2. 테스트 메인 코드는 test_can_start_a_list_and_retrieve_it_later라는 메소드다. test라는 명칭으로 시작되는 모든 메소드는 테스트 메소드이며 테스트 실행자에 의해 실행된다. 클래스당 하나 이상의 테스트 메소드를 작성할 수 있다. 가능한 테스트 내용을 알 수 있는 테스트 메소드 명칭을 사용하는 것이 좋다.\n",
    "3. setUp과 teaDown은 특수한 메소드로, 각 테스트 시작 전과 후에 실행된다.\n",
    "5. 테스트 어설션을 만들기 위해, assert 대신에 self.assertIn을 사용한다. assertEqual, assertTrue, assertFalse 같은 것도 제공한다. \n",
    "\n",
    "6. self.fail은 강제적으로 테스트 실패를 발생시켜서 에러 메세지를 출력한다. 여기서는 테스트가 끝났음을 알리기 위해 사용한다.\n",
    "8. warnings = 'ignore'는 테스트 작성 시에 발생하는 불필요한 리소스 경고를 제거하기 위한 것이다."
   ]
  },
  {
   "cell_type": "markdown",
   "metadata": {},
   "source": [
    "## 암묵적 대기\n",
    "\n",
    "여기서 한 가지 더 작업해주어야 할 것이 있다. implicitly_wait 기능을 setUp에 추가하는 것이다.\n",
    "\n",
    "필요에 따라 지정한 시간만큼 동작을 대기 상태로 둘 수 있다. 앞의 코드에서는 3초간 대기한 후에 처리하도록 기술하고 있다.\n",
    "\n",
    "implicitly_wait를 너무 신뢰해서는 안 된다. 항상 제대로 동작하는 것이 아니기 때문이다. 애플리케이션 구조가 간단한 경우에는 동작하지만 복잡한 애플리케이션에서는 세련되면서도 명시적인 대기 알고리즘을 별도로 작서앻야 한다."
   ]
  },
  {
   "cell_type": "code",
   "execution_count": null,
   "metadata": {},
   "outputs": [],
   "source": []
  }
 ],
 "metadata": {
  "kernelspec": {
   "display_name": "Python 3",
   "language": "python",
   "name": "python3"
  },
  "language_info": {
   "codemirror_mode": {
    "name": "ipython",
    "version": 3
   },
   "file_extension": ".py",
   "mimetype": "text/x-python",
   "name": "python",
   "nbconvert_exporter": "python",
   "pygments_lexer": "ipython3",
   "version": "3.7.3"
  }
 },
 "nbformat": 4,
 "nbformat_minor": 2
}
